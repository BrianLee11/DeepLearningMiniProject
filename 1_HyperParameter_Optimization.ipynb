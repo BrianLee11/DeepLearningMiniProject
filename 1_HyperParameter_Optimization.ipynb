{
  "nbformat": 4,
  "nbformat_minor": 0,
  "metadata": {
    "colab": {
      "provenance": [],
      "machine_shape": "hm",
      "gpuType": "A100"
    },
    "kernelspec": {
      "name": "python3",
      "display_name": "Python 3"
    },
    "language_info": {
      "name": "python"
    },
    "accelerator": "GPU"
  },
  "cells": [
    {
      "cell_type": "code",
      "execution_count": 1,
      "metadata": {
        "id": "pqr5IJ67z1Tx"
      },
      "outputs": [],
      "source": [
        "import torch\n",
        "import torchvision\n",
        "import torch.nn as nn\n",
        "from IPython.display import Image\n",
        "from torchvision import transforms\n",
        "import matplotlib.pyplot as plt\n",
        "import random\n",
        "from torch.utils.data import DataLoader\n",
        "from tqdm.auto import tqdm\n",
        "device = torch.device(\"cuda\" if torch.cuda.is_available() else \"cpu\")\n",
        "seed = 12345\n",
        "random.seed(seed)\n",
        "torch.manual_seed(seed)\n",
        "import numpy as np"
      ]
    },
    {
      "cell_type": "code",
      "source": [
        "# Part 1. For data loading and transformation, calculate means and standard deviations of the CIFAR-10 data\n",
        "from torchvision import transforms\n",
        "\n",
        "# Define a transform to convert the images to tensors\n",
        "transform_to_tensor = transforms.Compose([transforms.ToTensor()])\n",
        "\n",
        "cifar10_train = torchvision.datasets.CIFAR10(root='./cifar10',\n",
        "                                             train=True,\n",
        "                                             transform=transform_to_tensor,\n",
        "                                             target_transform=None,\n",
        "                                             download=True)\n",
        "\n",
        "cifar10_test = torchvision.datasets.CIFAR10(root='./cifar10',\n",
        "                                             train=False,\n",
        "                                             transform=transform_to_tensor,\n",
        "                                             target_transform=None,\n",
        "                                             download=True)\n",
        "\n",
        "# Divides the dataset into train and val so that we can use the val to choose our hyperparameters\n",
        "train_dataset, val_dataset = torch.utils.data.random_split(cifar10_train, [40000, 10000],\n",
        "                                                           generator=torch.Generator().manual_seed(12345))\n",
        "test_dataset = cifar10_test"
      ],
      "metadata": {
        "colab": {
          "base_uri": "https://localhost:8080/"
        },
        "id": "4sxCUEGrz3Om",
        "outputId": "817118bf-8036-4687-f9be-e697d244e30e"
      },
      "execution_count": 2,
      "outputs": [
        {
          "output_type": "stream",
          "name": "stdout",
          "text": [
            "Downloading https://www.cs.toronto.edu/~kriz/cifar-10-python.tar.gz to ./cifar10/cifar-10-python.tar.gz\n"
          ]
        },
        {
          "output_type": "stream",
          "name": "stderr",
          "text": [
            "100%|██████████| 170498071/170498071 [00:13<00:00, 12881968.82it/s]\n"
          ]
        },
        {
          "output_type": "stream",
          "name": "stdout",
          "text": [
            "Extracting ./cifar10/cifar-10-python.tar.gz to ./cifar10\n",
            "Files already downloaded and verified\n"
          ]
        }
      ]
    },
    {
      "cell_type": "code",
      "source": [
        "# Import necessary libraries\n",
        "import torch\n",
        "import torchvision\n",
        "from torchvision import transforms\n",
        "from tqdm import tqdm\n",
        "\n",
        "\n",
        "# Define the function to compute mean and standard deviation\n",
        "def get_mean_std(loader):\n",
        "    # Initialize sums and count for mean calculation\n",
        "    sum_rgb = torch.tensor([0.0, 0.0, 0.0])\n",
        "    count = 0\n",
        "\n",
        "    # Calculate the sum of pixel values for each channel\n",
        "    for images, _ in tqdm(loader):\n",
        "        sum_rgb += images.view(images.size(0), 3, -1).sum(dim=2).sum(dim=0)\n",
        "        count += images.view(images.size(0), 3, -1).shape[2] * images.size(0)\n",
        "\n",
        "    # Calculate means\n",
        "    mean_rgb = sum_rgb / count\n",
        "\n",
        "    # Initialize sum for variance calculation\n",
        "    sum_var_rgb = torch.tensor([0.0, 0.0, 0.0])\n",
        "\n",
        "    # Calculate the sum of squared differences from the mean\n",
        "    for images, _ in tqdm(loader):\n",
        "        sum_var_rgb += ((images.view(images.size(0), 3, -1) - mean_rgb.unsqueeze(1)) ** 2).sum(dim=2).sum(dim=0)\n",
        "\n",
        "    # Calculate variance and standard deviation\n",
        "    var_rgb = sum_var_rgb / count\n",
        "    std_rgb = torch.sqrt(var_rgb)\n",
        "\n",
        "    return mean_rgb, std_rgb\n",
        "\n",
        "# Define the DataLoader for the CIFAR-10 training dataset\n",
        "# 40000 / 64 = 625. Each batch has 625 images.\n",
        "train_loader = torch.utils.data.DataLoader(train_dataset, batch_size=64, shuffle=False)"
      ],
      "metadata": {
        "id": "rhDsaZhHz3Qt"
      },
      "execution_count": 3,
      "outputs": []
    },
    {
      "cell_type": "code",
      "source": [
        "# Compute the mean and standard deviation\n",
        "mean, std = get_mean_std(train_loader)\n",
        "\n",
        "print(f\"\\nMean: {mean}\")\n",
        "print(f\"Standard Deviation: {std}\")"
      ],
      "metadata": {
        "colab": {
          "base_uri": "https://localhost:8080/"
        },
        "id": "3Z-Y02h1z3So",
        "outputId": "f10fa103-e222-4ceb-ce51-582a61382287"
      },
      "execution_count": 4,
      "outputs": [
        {
          "output_type": "stream",
          "name": "stderr",
          "text": [
            "100%|██████████| 625/625 [00:05<00:00, 111.21it/s]\n",
            "100%|██████████| 625/625 [00:05<00:00, 113.85it/s]"
          ]
        },
        {
          "output_type": "stream",
          "name": "stdout",
          "text": [
            "\n",
            "Mean: tensor([0.4907, 0.4816, 0.4461])\n",
            "Standard Deviation: tensor([0.2469, 0.2432, 0.2613])\n"
          ]
        },
        {
          "output_type": "stream",
          "name": "stderr",
          "text": [
            "\n"
          ]
        }
      ]
    },
    {
      "cell_type": "code",
      "source": [
        "# dataset is a random batch from train_loader with batch size = 64\n",
        "# compute mean of red, mean of green, mean of blue. Also standard deviation of red, green, and blue\n",
        "print(f'This batch has means of RGB: {mean[0]}, {mean[1]}, {mean[2]}')\n",
        "print(f'This batch has stadard deviations of RGB: {std[0]}, {std[1]}, {std[2]}')\n"
      ],
      "metadata": {
        "colab": {
          "base_uri": "https://localhost:8080/"
        },
        "id": "2SKwkvOvz3Uq",
        "outputId": "995331a4-f634-4659-e2fc-15e01ee20a55"
      },
      "execution_count": 5,
      "outputs": [
        {
          "output_type": "stream",
          "name": "stdout",
          "text": [
            "This batch has means of RGB: 0.49071556329727173, 0.48164132237434387, 0.4460550844669342\n",
            "This batch has stadard deviations of RGB: 0.24687588214874268, 0.24322731792926788, 0.2613436281681061\n"
          ]
        }
      ]
    },
    {
      "cell_type": "code",
      "source": [
        "# Part 2. CIFAR-10 data loading and transformation\n",
        "# Data loading and transformation\n",
        "transform_train = transforms.Compose([\n",
        "\n",
        "    # the CIFAR-10 image is 32 x 32 pixels.\n",
        "    transforms.RandomCrop(32, padding=4),\n",
        "    transforms.RandomHorizontalFlip(),\n",
        "    transforms.ToTensor(),\n",
        "    transforms.Normalize((mean[0], mean[1], mean[2]), (std[0], std[1], std[2])),\n",
        "])\n",
        "\n",
        "# Normalization\n",
        "transform_test = transforms.Compose([\n",
        "    transforms.ToTensor(),\n",
        "    transforms.Normalize((mean[0], mean[1], mean[2]), (std[0], std[1], std[2])),\n",
        "])\n",
        "\n",
        "trainloader = torch.utils.data.DataLoader(train_dataset, batch_size=128, shuffle=True, num_workers=2)\n",
        "testloader = torch.utils.data.DataLoader(val_dataset, batch_size=100, shuffle=False, num_workers=2)"
      ],
      "metadata": {
        "id": "MiIaJyT2z3Wx"
      },
      "execution_count": 6,
      "outputs": []
    },
    {
      "cell_type": "code",
      "source": [
        "# Part 3: function implementation - residual block\n",
        "import torch\n",
        "import torch.nn as nn\n",
        "import torch.optim as optim\n",
        "import torch.nn.functional as F\n",
        "from torchvision import datasets, transforms\n",
        "\n",
        "import torch.nn.functional as F\n",
        "\n",
        "class ResidualBlock_3blocks(nn.Module):\n",
        "    def __init__(self, in_channels, out_channels, kernel_size=3, stride=1, downsample=None):\n",
        "        super(ResidualBlock_3blocks, self).__init__()\n",
        "        self.conv1 = nn.Conv2d(in_channels, out_channels, kernel_size=kernel_size, stride=stride, padding=kernel_size//2, bias=False)\n",
        "        self.bn1 = nn.BatchNorm2d(out_channels)\n",
        "        self.relu = nn.ReLU(inplace=True)\n",
        "        self.conv2 = nn.Conv2d(out_channels, out_channels, kernel_size=kernel_size, stride=1, padding=kernel_size//2, bias=False)\n",
        "        self.bn2 = nn.BatchNorm2d(out_channels)\n",
        "        self.downsample = downsample\n",
        "\n",
        "    def forward(self, x):\n",
        "        residual = x\n",
        "        out = self.conv1(x)\n",
        "        out = self.bn1(out)\n",
        "        out = self.relu(out)\n",
        "        out = self.conv2(out)\n",
        "        out = self.bn2(out)\n",
        "\n",
        "        if self.downsample is not None:\n",
        "            residual = self.downsample(x)\n",
        "\n",
        "        out += residual\n",
        "        out = self.relu(out)\n",
        "        return out\n",
        "\n",
        "class ResNet18ThreeLayersThreeBlocks_64channels(nn.Module):\n",
        "    def __init__(self, block=ResidualBlock_3blocks, in_channel_size=3, num_blocks_array=[3,3,3], out_channel_size=64, num_classes=10):\n",
        "        super(ResNet18ThreeLayersThreeBlocks_64channels, self).__init__()\n",
        "        self.in_channels = out_channel_size\n",
        "\n",
        "        # Initial convolution\n",
        "        self.conv = nn.Conv2d(in_channel_size, out_channel_size, kernel_size=5, stride=1, padding=1, bias=False)\n",
        "        self.bn = nn.BatchNorm2d(out_channel_size)\n",
        "        self.relu = nn.ReLU(inplace=True)\n",
        "\n",
        "        # Creating three layers with three blocks each\n",
        "        self.layer1 = self._make_layer(block, out_channel_size, num_blocks_array[0])\n",
        "        self.layer2 = self._make_layer(block, out_channel_size*2, num_blocks_array[1], stride=2)\n",
        "        self.layer3 = self._make_layer(block, out_channel_size*4, num_blocks_array[2], stride=2)\n",
        "\n",
        "        # Adaptive pooling and fully connected layer\n",
        "        self.avg_pool = nn.AdaptiveAvgPool2d((1, 1))\n",
        "        #self.fc = nn.Linear(out_channel_size*4*2*2, num_classes)  # 注意这里\n",
        "\n",
        "        self.fc = nn.Linear(out_channel_size*4, num_classes)\n",
        "\n",
        "    def _make_layer(self, block, out_channels, num_blocks, stride=1):\n",
        "        downsample = None\n",
        "        if stride != 1 or self.in_channels != out_channels:\n",
        "            downsample = nn.Sequential(\n",
        "                nn.Conv2d(self.in_channels, out_channels, kernel_size=1, stride=stride, bias=False),\n",
        "                nn.BatchNorm2d(out_channels)\n",
        "            )\n",
        "\n",
        "        layers = []\n",
        "        layers.append(block(self.in_channels, out_channels, stride=stride, downsample=downsample))\n",
        "        self.in_channels = out_channels\n",
        "        for _ in range(1, num_blocks):\n",
        "            layers.append(block(out_channels, out_channels))\n",
        "        return nn.Sequential(*layers)\n",
        "\n",
        "    def forward(self, x):\n",
        "        x = self.relu(self.bn(self.conv(x)))\n",
        "        x = self.layer1(x)\n",
        "        x = self.layer2(x)\n",
        "        x = self.layer3(x)\n",
        "        x = self.avg_pool(x)\n",
        "        x = x.view(x.size(0), -1)\n",
        "        x = self.fc(x)\n",
        "        return x\n"
      ],
      "metadata": {
        "id": "7y7BpVP4z3Y6"
      },
      "execution_count": 16,
      "outputs": []
    },
    {
      "cell_type": "code",
      "source": [
        "model = ResNet18ThreeLayersThreeBlocks_64channels()\n",
        "\n",
        "# compute the number of parameters in this model\n",
        "total_params = sum(p.numel() for p in model.parameters() if p.requires_grad)\n",
        "print(f\"Default model has the total number(million) of parameters: {total_params/10**6}\")"
      ],
      "metadata": {
        "colab": {
          "base_uri": "https://localhost:8080/"
        },
        "id": "9DICXqfX2AFT",
        "outputId": "1817c37a-fc5f-4cf3-e979-b5c485837178"
      },
      "execution_count": 17,
      "outputs": [
        {
          "output_type": "stream",
          "name": "stdout",
          "text": [
            "Default model has the total number(million) of parameters: 4.330826\n"
          ]
        }
      ]
    },
    {
      "cell_type": "code",
      "source": [
        "import torch\n",
        "import torch.optim as optim\n",
        "from tqdm import tqdm\n",
        "import torch.optim as optim\n",
        "from torch.optim.lr_scheduler import StepLR\n",
        "\n",
        "# Assuming model is defined and device is set\n",
        "# Example model instantiation and device setup\n",
        "# model = ResNet18ThreeLayersThreeBlocks_64channels().to(device)\n",
        "# device = torch.device(\"cuda\" if torch.cuda.is_available() else \"cpu\")\n",
        "\n",
        "# Model instantiation with the correct in_channel_size\n",
        "model = ResNet18ThreeLayersThreeBlocks_64channels().to(device)\n",
        "\n",
        "def train_model(model, optimizer, criterion, trainloader, num_epochs, gamma=0.1, step_size=5):\n",
        "    model.to(device)\n",
        "    total_params = sum(p.numel() for p in model.parameters() if p.requires_grad)\n",
        "    print(f\"Total number(million) of trainable parameters: {total_params/10**6}\")\n",
        "\n",
        "    # Setup the learning rate scheduler\n",
        "    scheduler = StepLR(optimizer, step_size=step_size, gamma=gamma)\n",
        "    losses = []\n",
        "\n",
        "    for epoch in range(num_epochs):\n",
        "        model.train()  # Set model to training mode\n",
        "        running_loss = 0.0\n",
        "\n",
        "        for i, data in enumerate(tqdm(trainloader, total=len(trainloader), unit='batch', desc=f\"Epoch {epoch+1}\")):\n",
        "            inputs, labels = data[0].to(device), data[1].to(device)\n",
        "\n",
        "            # Zero the parameter gradients\n",
        "            optimizer.zero_grad()\n",
        "\n",
        "            # Forward + backward + optimize\n",
        "            outputs = model(inputs)\n",
        "            loss = criterion(outputs, labels)\n",
        "            loss.backward()\n",
        "            optimizer.step()\n",
        "\n",
        "            # Accumulate loss\n",
        "            running_loss += loss.item()\n",
        "        average_loss = running_loss / len(trainloader)\n",
        "        losses.append(average_loss)\n",
        "\n",
        "        # Print running loss at the end of the epoch\n",
        "        tqdm.write(f'\\nAverage Loss: {running_loss / len(trainloader):.3f}')\n",
        "        tqdm.write(f'Number(mil) of parameters: {total_params/10**6}')\n",
        "        tqdm.write(f'Finished Training {epoch + 1}\\n')\n",
        "\n",
        "        # Step the scheduler\n",
        "        scheduler.step()\n",
        "\n",
        "        print('Finished Training')\n",
        "        return losses\n"
      ],
      "metadata": {
        "id": "t4Y2hE7Y1K8_"
      },
      "execution_count": 55,
      "outputs": []
    },
    {
      "cell_type": "code",
      "source": [
        "# Usage example with SGD\n",
        "model = ResNet18ThreeLayersThreeBlocks_64channels()  #\n",
        "criterion = nn.CrossEntropyLoss()\n",
        "optimizer_sgd = optim.SGD(model.parameters(), lr=0.01, momentum=0.9)\n",
        "num_epochs=10\n",
        "losses = train_model(model, optimizer_sgd, criterion, trainloader, num_epochs)"
      ],
      "metadata": {
        "colab": {
          "base_uri": "https://localhost:8080/"
        },
        "id": "ZsPs0rlez3iU",
        "outputId": "503dfd41-298b-4afd-bb16-07c31014089d"
      },
      "execution_count": 56,
      "outputs": [
        {
          "output_type": "stream",
          "name": "stdout",
          "text": [
            "Total number(million) of trainable parameters: 4.330826\n"
          ]
        },
        {
          "output_type": "stream",
          "name": "stderr",
          "text": [
            "\rEpoch 1:   0%|          | 0/313 [00:00<?, ?batch/s]/usr/lib/python3.10/multiprocessing/popen_fork.py:66: RuntimeWarning: os.fork() was called. os.fork() is incompatible with multithreaded code, and JAX is multithreaded, so this will likely lead to a deadlock.\n",
            "  self.pid = os.fork()\n",
            "Epoch 1: 100%|██████████| 313/313 [00:06<00:00, 48.98batch/s]"
          ]
        },
        {
          "output_type": "stream",
          "name": "stdout",
          "text": [
            "\n",
            "Average Loss: 1.417\n",
            "Number(mil) of parameters: 4.330826\n",
            "Finished Training 1\n",
            "\n",
            "Finished Training\n"
          ]
        },
        {
          "output_type": "stream",
          "name": "stderr",
          "text": [
            "\n"
          ]
        }
      ]
    },
    {
      "cell_type": "code",
      "source": [
        "from tqdm import tqdm\n",
        "\n",
        "def test_model(model, testloader):\n",
        "    model.eval()  # Set the model to evaluation mode\n",
        "    device = next(model.parameters()).device  # Get the device model is on\n",
        "\n",
        "    total = 0\n",
        "    correct = 0\n",
        "\n",
        "    with torch.no_grad():  # No need to track gradients during testing\n",
        "        for data in tqdm(testloader, total=len(testloader), desc=\"Testing\"):\n",
        "            inputs, labels = data[0].to(device), data[1].to(device)\n",
        "\n",
        "            # Forward pass\n",
        "            outputs = model(inputs)\n",
        "            _, predicted = torch.max(outputs.data, 1)\n",
        "            total += labels.size(0)\n",
        "            correct += (predicted == labels).sum().item()\n",
        "\n",
        "    # Calculate and print the accuracy\n",
        "    accuracy = 100 * correct / total\n",
        "    print(f'\\nAccuracy of the network on the test images: {accuracy:.2f}%')\n",
        "\n",
        "    return accuracy"
      ],
      "metadata": {
        "id": "dfHRgp8vz3kn"
      },
      "execution_count": 27,
      "outputs": []
    },
    {
      "cell_type": "code",
      "source": [
        "# Assuming model and testloader are defined\n",
        "test_accuracy = test_model(model, testloader)"
      ],
      "metadata": {
        "colab": {
          "base_uri": "https://localhost:8080/"
        },
        "id": "kOPljOv3z3m0",
        "outputId": "feafcaec-d9be-459f-bc54-cf9b2aeed1af"
      },
      "execution_count": 28,
      "outputs": [
        {
          "output_type": "stream",
          "name": "stderr",
          "text": [
            "Testing: 100%|██████████| 100/100 [00:00<00:00, 108.38it/s]"
          ]
        },
        {
          "output_type": "stream",
          "name": "stdout",
          "text": [
            "\n",
            "Accuracy of the network on the test images: 58.18%\n"
          ]
        },
        {
          "output_type": "stream",
          "name": "stderr",
          "text": [
            "\n"
          ]
        }
      ]
    },
    {
      "cell_type": "code",
      "source": [
        "import torch.optim as optim\n",
        "import torch.nn as nn\n",
        "\n",
        "def train_and_test(model_func, epochs_array, trainloader, testloader, criterion, optimizer_func, lr = 0.001):\n",
        "    for num_epochs in epochs_array:\n",
        "        if num_epochs == 0:  # Skip if the number of epochs is 0\n",
        "            continue\n",
        "\n",
        "        # Initialize the model for each run\n",
        "        model = model_func().to(device)\n",
        "\n",
        "\n",
        "\n",
        "        # Initialize the optimizer with the current model parameters and learning rate\n",
        "        optimizer = optimizer_func(model.parameters(), lr=lr)\n",
        "\n",
        "        # Training the model\n",
        "        print(f\"\\nTraining for {num_epochs} epochs...\")\n",
        "        train_model(model, optimizer, criterion, trainloader, num_epochs)\n",
        "\n",
        "        # Testing the model\n",
        "        test_accuracy = test_model(model, testloader)\n",
        "\n",
        "        # Compute the number of parameters in this model\n",
        "        total_params = sum(p.numel() for p in model.parameters() if p.requires_grad)\n",
        "\n",
        "        print(f'Optimizer: {optimizer_func.__name__}')\n",
        "        print(f'Learning rate: {lr}')\n",
        "        print(f'Number of epochs: {num_epochs})')\n",
        "        print(f'After applying epochs = {num_epochs}, accuracy of the network on the test images: {test_accuracy:.2f}%, with number(mil) of parameters = {total_params/10**6}\\n')"
      ],
      "metadata": {
        "id": "qIlrsOcwz3pR"
      },
      "execution_count": 30,
      "outputs": []
    },
    {
      "cell_type": "code",
      "source": [
        "def train_model_gamma(model, optimizer, criterion, trainloader, num_epochs, gamma, step_size):\n",
        "    model.to(device)\n",
        "    total_params = sum(p.numel() for p in model.parameters() if p.requires_grad)\n",
        "    print(f\"Total number(million) of trainable parameters: {total_params/10**6}\")\n",
        "\n",
        "    # Setup the learning rate scheduler\n",
        "    scheduler = StepLR(optimizer, step_size=step_size, gamma=gamma)\n",
        "\n",
        "\n",
        "    for epoch in range(num_epochs):\n",
        "        model.train()  # Set model to training mode\n",
        "        running_loss = 0.0\n",
        "\n",
        "\n",
        "        for i, data in enumerate(tqdm(trainloader, total=len(trainloader), unit='batch', desc=f\"Epoch {epoch+1}\")):\n",
        "            inputs, labels = data[0].to(device), data[1].to(device)\n",
        "\n",
        "            # Zero the parameter gradients\n",
        "            optimizer.zero_grad()\n",
        "\n",
        "            # Forward + backward + optimize\n",
        "            outputs = model(inputs)\n",
        "            loss = criterion(outputs, labels)\n",
        "            loss.backward()\n",
        "            optimizer.step()\n",
        "\n",
        "            # Accumulate loss\n",
        "            running_loss += loss.item()\n",
        "\n",
        "\n",
        "        # Print running loss at the end of the epoch\n",
        "        tqdm.write(f'\\nAverage Loss: {running_loss / len(trainloader):.3f}')\n",
        "        tqdm.write(f'Finished Training {epoch + 1}\\n')\n",
        "\n",
        "        # Step the scheduler\n",
        "        scheduler.step()\n",
        "\n",
        "\n",
        "        print('Finished Training')\n",
        "        return losses"
      ],
      "metadata": {
        "id": "wHcVheak6P-5"
      },
      "execution_count": 51,
      "outputs": []
    },
    {
      "cell_type": "code",
      "source": [],
      "metadata": {
        "id": "UDoT_mqr7r6J"
      },
      "execution_count": null,
      "outputs": []
    },
    {
      "cell_type": "code",
      "source": [
        "def plot_losses(losses):\n",
        "    plt.figure(figsize=(10, 5))\n",
        "    plt.plot(losses, label='Loss per Epoch')\n",
        "    plt.xlabel('Epoch')\n",
        "    plt.ylabel('Average Loss')\n",
        "    plt.title('Average Loss per Epoch')\n",
        "    plt.legend()\n",
        "    plt.savefig('loss_curve_gamma=0.5_stepsieze10.png')\n",
        "    plt.grid(True)\n",
        "    plt.show()\n"
      ],
      "metadata": {
        "id": "-hOS3W2Q7uL7"
      },
      "execution_count": 68,
      "outputs": []
    },
    {
      "cell_type": "code",
      "source": [
        "model = ResNet18ThreeLayersThreeBlocks_64channels()  #\n",
        "criterion = nn.CrossEntropyLoss()\n",
        "optimizer = optim.Adam(model.parameters(), lr=0.001)\n",
        "num_epochs=30\n",
        "losses = []\n",
        "for i in range(num_epochs):\n",
        "  each_losses  = train_model(model, optimizer, criterion, trainloader, num_epochs, gamma=0.5, step_size=10)\n",
        "  losses.append(each_losses)\n",
        "\n",
        "plot_losses(losses)"
      ],
      "metadata": {
        "colab": {
          "base_uri": "https://localhost:8080/",
          "height": 1000
        },
        "id": "K2IPkbTj4_Zg",
        "outputId": "510369c0-966b-4fb8-991c-e70eeb874908"
      },
      "execution_count": 69,
      "outputs": [
        {
          "output_type": "stream",
          "name": "stdout",
          "text": [
            "Total number(million) of trainable parameters: 4.330826\n"
          ]
        },
        {
          "output_type": "stream",
          "name": "stderr",
          "text": [
            "Epoch 1: 100%|██████████| 313/313 [00:06<00:00, 48.89batch/s]\n"
          ]
        },
        {
          "output_type": "stream",
          "name": "stdout",
          "text": [
            "\n",
            "Average Loss: 1.424\n",
            "Number(mil) of parameters: 4.330826\n",
            "Finished Training 1\n",
            "\n",
            "Finished Training\n",
            "Total number(million) of trainable parameters: 4.330826\n"
          ]
        },
        {
          "output_type": "stream",
          "name": "stderr",
          "text": [
            "Epoch 1: 100%|██████████| 313/313 [00:06<00:00, 49.70batch/s]\n"
          ]
        },
        {
          "output_type": "stream",
          "name": "stdout",
          "text": [
            "\n",
            "Average Loss: 0.957\n",
            "Number(mil) of parameters: 4.330826\n",
            "Finished Training 1\n",
            "\n",
            "Finished Training\n",
            "Total number(million) of trainable parameters: 4.330826\n"
          ]
        },
        {
          "output_type": "stream",
          "name": "stderr",
          "text": [
            "Epoch 1: 100%|██████████| 313/313 [00:06<00:00, 49.55batch/s]\n"
          ]
        },
        {
          "output_type": "stream",
          "name": "stdout",
          "text": [
            "\n",
            "Average Loss: 0.729\n",
            "Number(mil) of parameters: 4.330826\n",
            "Finished Training 1\n",
            "\n",
            "Finished Training\n",
            "Total number(million) of trainable parameters: 4.330826\n"
          ]
        },
        {
          "output_type": "stream",
          "name": "stderr",
          "text": [
            "Epoch 1: 100%|██████████| 313/313 [00:06<00:00, 50.62batch/s]\n"
          ]
        },
        {
          "output_type": "stream",
          "name": "stdout",
          "text": [
            "\n",
            "Average Loss: 0.594\n",
            "Number(mil) of parameters: 4.330826\n",
            "Finished Training 1\n",
            "\n",
            "Finished Training\n",
            "Total number(million) of trainable parameters: 4.330826\n"
          ]
        },
        {
          "output_type": "stream",
          "name": "stderr",
          "text": [
            "Epoch 1: 100%|██████████| 313/313 [00:06<00:00, 50.32batch/s]\n"
          ]
        },
        {
          "output_type": "stream",
          "name": "stdout",
          "text": [
            "\n",
            "Average Loss: 0.499\n",
            "Number(mil) of parameters: 4.330826\n",
            "Finished Training 1\n",
            "\n",
            "Finished Training\n",
            "Total number(million) of trainable parameters: 4.330826\n"
          ]
        },
        {
          "output_type": "stream",
          "name": "stderr",
          "text": [
            "Epoch 1: 100%|██████████| 313/313 [00:06<00:00, 49.81batch/s]\n"
          ]
        },
        {
          "output_type": "stream",
          "name": "stdout",
          "text": [
            "\n",
            "Average Loss: 0.423\n",
            "Number(mil) of parameters: 4.330826\n",
            "Finished Training 1\n",
            "\n",
            "Finished Training\n",
            "Total number(million) of trainable parameters: 4.330826\n"
          ]
        },
        {
          "output_type": "stream",
          "name": "stderr",
          "text": [
            "Epoch 1: 100%|██████████| 313/313 [00:06<00:00, 49.40batch/s]\n"
          ]
        },
        {
          "output_type": "stream",
          "name": "stdout",
          "text": [
            "\n",
            "Average Loss: 0.354\n",
            "Number(mil) of parameters: 4.330826\n",
            "Finished Training 1\n",
            "\n",
            "Finished Training\n",
            "Total number(million) of trainable parameters: 4.330826\n"
          ]
        },
        {
          "output_type": "stream",
          "name": "stderr",
          "text": [
            "Epoch 1: 100%|██████████| 313/313 [00:06<00:00, 50.26batch/s]\n"
          ]
        },
        {
          "output_type": "stream",
          "name": "stdout",
          "text": [
            "\n",
            "Average Loss: 0.296\n",
            "Number(mil) of parameters: 4.330826\n",
            "Finished Training 1\n",
            "\n",
            "Finished Training\n",
            "Total number(million) of trainable parameters: 4.330826\n"
          ]
        },
        {
          "output_type": "stream",
          "name": "stderr",
          "text": [
            "Epoch 1: 100%|██████████| 313/313 [00:06<00:00, 50.48batch/s]\n"
          ]
        },
        {
          "output_type": "stream",
          "name": "stdout",
          "text": [
            "\n",
            "Average Loss: 0.238\n",
            "Number(mil) of parameters: 4.330826\n",
            "Finished Training 1\n",
            "\n",
            "Finished Training\n",
            "Total number(million) of trainable parameters: 4.330826\n"
          ]
        },
        {
          "output_type": "stream",
          "name": "stderr",
          "text": [
            "Epoch 1: 100%|██████████| 313/313 [00:06<00:00, 50.09batch/s]\n"
          ]
        },
        {
          "output_type": "stream",
          "name": "stdout",
          "text": [
            "\n",
            "Average Loss: 0.192\n",
            "Number(mil) of parameters: 4.330826\n",
            "Finished Training 1\n",
            "\n",
            "Finished Training\n",
            "Total number(million) of trainable parameters: 4.330826\n"
          ]
        },
        {
          "output_type": "stream",
          "name": "stderr",
          "text": [
            "Epoch 1: 100%|██████████| 313/313 [00:06<00:00, 51.25batch/s]\n"
          ]
        },
        {
          "output_type": "stream",
          "name": "stdout",
          "text": [
            "\n",
            "Average Loss: 0.149\n",
            "Number(mil) of parameters: 4.330826\n",
            "Finished Training 1\n",
            "\n",
            "Finished Training\n",
            "Total number(million) of trainable parameters: 4.330826\n"
          ]
        },
        {
          "output_type": "stream",
          "name": "stderr",
          "text": [
            "Epoch 1: 100%|██████████| 313/313 [00:06<00:00, 50.60batch/s]\n"
          ]
        },
        {
          "output_type": "stream",
          "name": "stdout",
          "text": [
            "\n",
            "Average Loss: 0.121\n",
            "Number(mil) of parameters: 4.330826\n",
            "Finished Training 1\n",
            "\n",
            "Finished Training\n",
            "Total number(million) of trainable parameters: 4.330826\n"
          ]
        },
        {
          "output_type": "stream",
          "name": "stderr",
          "text": [
            "Epoch 1: 100%|██████████| 313/313 [00:06<00:00, 48.77batch/s]\n"
          ]
        },
        {
          "output_type": "stream",
          "name": "stdout",
          "text": [
            "\n",
            "Average Loss: 0.093\n",
            "Number(mil) of parameters: 4.330826\n",
            "Finished Training 1\n",
            "\n",
            "Finished Training\n",
            "Total number(million) of trainable parameters: 4.330826\n"
          ]
        },
        {
          "output_type": "stream",
          "name": "stderr",
          "text": [
            "Epoch 1: 100%|██████████| 313/313 [00:06<00:00, 49.61batch/s]\n"
          ]
        },
        {
          "output_type": "stream",
          "name": "stdout",
          "text": [
            "\n",
            "Average Loss: 0.084\n",
            "Number(mil) of parameters: 4.330826\n",
            "Finished Training 1\n",
            "\n",
            "Finished Training\n",
            "Total number(million) of trainable parameters: 4.330826\n"
          ]
        },
        {
          "output_type": "stream",
          "name": "stderr",
          "text": [
            "Epoch 1: 100%|██████████| 313/313 [00:06<00:00, 50.06batch/s]\n"
          ]
        },
        {
          "output_type": "stream",
          "name": "stdout",
          "text": [
            "\n",
            "Average Loss: 0.066\n",
            "Number(mil) of parameters: 4.330826\n",
            "Finished Training 1\n",
            "\n",
            "Finished Training\n",
            "Total number(million) of trainable parameters: 4.330826\n"
          ]
        },
        {
          "output_type": "stream",
          "name": "stderr",
          "text": [
            "Epoch 1: 100%|██████████| 313/313 [00:06<00:00, 49.84batch/s]\n"
          ]
        },
        {
          "output_type": "stream",
          "name": "stdout",
          "text": [
            "\n",
            "Average Loss: 0.068\n",
            "Number(mil) of parameters: 4.330826\n",
            "Finished Training 1\n",
            "\n",
            "Finished Training\n",
            "Total number(million) of trainable parameters: 4.330826\n"
          ]
        },
        {
          "output_type": "stream",
          "name": "stderr",
          "text": [
            "Epoch 1: 100%|██████████| 313/313 [00:06<00:00, 47.54batch/s]\n"
          ]
        },
        {
          "output_type": "stream",
          "name": "stdout",
          "text": [
            "\n",
            "Average Loss: 0.055\n",
            "Number(mil) of parameters: 4.330826\n",
            "Finished Training 1\n",
            "\n",
            "Finished Training\n",
            "Total number(million) of trainable parameters: 4.330826\n"
          ]
        },
        {
          "output_type": "stream",
          "name": "stderr",
          "text": [
            "Epoch 1: 100%|██████████| 313/313 [00:06<00:00, 48.56batch/s]\n"
          ]
        },
        {
          "output_type": "stream",
          "name": "stdout",
          "text": [
            "\n",
            "Average Loss: 0.060\n",
            "Number(mil) of parameters: 4.330826\n",
            "Finished Training 1\n",
            "\n",
            "Finished Training\n",
            "Total number(million) of trainable parameters: 4.330826\n"
          ]
        },
        {
          "output_type": "stream",
          "name": "stderr",
          "text": [
            "Epoch 1: 100%|██████████| 313/313 [00:06<00:00, 49.98batch/s]\n"
          ]
        },
        {
          "output_type": "stream",
          "name": "stdout",
          "text": [
            "\n",
            "Average Loss: 0.043\n",
            "Number(mil) of parameters: 4.330826\n",
            "Finished Training 1\n",
            "\n",
            "Finished Training\n",
            "Total number(million) of trainable parameters: 4.330826\n"
          ]
        },
        {
          "output_type": "stream",
          "name": "stderr",
          "text": [
            "Epoch 1: 100%|██████████| 313/313 [00:06<00:00, 51.20batch/s]\n"
          ]
        },
        {
          "output_type": "stream",
          "name": "stdout",
          "text": [
            "\n",
            "Average Loss: 0.051\n",
            "Number(mil) of parameters: 4.330826\n",
            "Finished Training 1\n",
            "\n",
            "Finished Training\n",
            "Total number(million) of trainable parameters: 4.330826\n"
          ]
        },
        {
          "output_type": "stream",
          "name": "stderr",
          "text": [
            "Epoch 1: 100%|██████████| 313/313 [00:06<00:00, 50.38batch/s]\n"
          ]
        },
        {
          "output_type": "stream",
          "name": "stdout",
          "text": [
            "\n",
            "Average Loss: 0.048\n",
            "Number(mil) of parameters: 4.330826\n",
            "Finished Training 1\n",
            "\n",
            "Finished Training\n",
            "Total number(million) of trainable parameters: 4.330826\n"
          ]
        },
        {
          "output_type": "stream",
          "name": "stderr",
          "text": [
            "Epoch 1: 100%|██████████| 313/313 [00:06<00:00, 48.32batch/s]\n"
          ]
        },
        {
          "output_type": "stream",
          "name": "stdout",
          "text": [
            "\n",
            "Average Loss: 0.040\n",
            "Number(mil) of parameters: 4.330826\n",
            "Finished Training 1\n",
            "\n",
            "Finished Training\n",
            "Total number(million) of trainable parameters: 4.330826\n"
          ]
        },
        {
          "output_type": "stream",
          "name": "stderr",
          "text": [
            "Epoch 1: 100%|██████████| 313/313 [00:06<00:00, 50.16batch/s]\n"
          ]
        },
        {
          "output_type": "stream",
          "name": "stdout",
          "text": [
            "\n",
            "Average Loss: 0.039\n",
            "Number(mil) of parameters: 4.330826\n",
            "Finished Training 1\n",
            "\n",
            "Finished Training\n",
            "Total number(million) of trainable parameters: 4.330826\n"
          ]
        },
        {
          "output_type": "stream",
          "name": "stderr",
          "text": [
            "Epoch 1: 100%|██████████| 313/313 [00:06<00:00, 50.42batch/s]\n"
          ]
        },
        {
          "output_type": "stream",
          "name": "stdout",
          "text": [
            "\n",
            "Average Loss: 0.038\n",
            "Number(mil) of parameters: 4.330826\n",
            "Finished Training 1\n",
            "\n",
            "Finished Training\n",
            "Total number(million) of trainable parameters: 4.330826\n"
          ]
        },
        {
          "output_type": "stream",
          "name": "stderr",
          "text": [
            "Epoch 1: 100%|██████████| 313/313 [00:06<00:00, 49.94batch/s]\n"
          ]
        },
        {
          "output_type": "stream",
          "name": "stdout",
          "text": [
            "\n",
            "Average Loss: 0.027\n",
            "Number(mil) of parameters: 4.330826\n",
            "Finished Training 1\n",
            "\n",
            "Finished Training\n",
            "Total number(million) of trainable parameters: 4.330826\n"
          ]
        },
        {
          "output_type": "stream",
          "name": "stderr",
          "text": [
            "Epoch 1: 100%|██████████| 313/313 [00:06<00:00, 50.23batch/s]\n"
          ]
        },
        {
          "output_type": "stream",
          "name": "stdout",
          "text": [
            "\n",
            "Average Loss: 0.038\n",
            "Number(mil) of parameters: 4.330826\n",
            "Finished Training 1\n",
            "\n",
            "Finished Training\n",
            "Total number(million) of trainable parameters: 4.330826\n"
          ]
        },
        {
          "output_type": "stream",
          "name": "stderr",
          "text": [
            "Epoch 1: 100%|██████████| 313/313 [00:06<00:00, 50.80batch/s]\n"
          ]
        },
        {
          "output_type": "stream",
          "name": "stdout",
          "text": [
            "\n",
            "Average Loss: 0.041\n",
            "Number(mil) of parameters: 4.330826\n",
            "Finished Training 1\n",
            "\n",
            "Finished Training\n",
            "Total number(million) of trainable parameters: 4.330826\n"
          ]
        },
        {
          "output_type": "stream",
          "name": "stderr",
          "text": [
            "Epoch 1: 100%|██████████| 313/313 [00:06<00:00, 49.77batch/s]\n"
          ]
        },
        {
          "output_type": "stream",
          "name": "stdout",
          "text": [
            "\n",
            "Average Loss: 0.024\n",
            "Number(mil) of parameters: 4.330826\n",
            "Finished Training 1\n",
            "\n",
            "Finished Training\n",
            "Total number(million) of trainable parameters: 4.330826\n"
          ]
        },
        {
          "output_type": "stream",
          "name": "stderr",
          "text": [
            "Epoch 1: 100%|██████████| 313/313 [00:06<00:00, 50.40batch/s]\n"
          ]
        },
        {
          "output_type": "stream",
          "name": "stdout",
          "text": [
            "\n",
            "Average Loss: 0.031\n",
            "Number(mil) of parameters: 4.330826\n",
            "Finished Training 1\n",
            "\n",
            "Finished Training\n",
            "Total number(million) of trainable parameters: 4.330826\n"
          ]
        },
        {
          "output_type": "stream",
          "name": "stderr",
          "text": [
            "Epoch 1: 100%|██████████| 313/313 [00:06<00:00, 49.58batch/s]\n"
          ]
        },
        {
          "output_type": "stream",
          "name": "stdout",
          "text": [
            "\n",
            "Average Loss: 0.030\n",
            "Number(mil) of parameters: 4.330826\n",
            "Finished Training 1\n",
            "\n",
            "Finished Training\n"
          ]
        },
        {
          "output_type": "display_data",
          "data": {
            "text/plain": [
              "<Figure size 1000x500 with 1 Axes>"
            ],
            "image/png": "[encoded data removed]"
          },
          "metadata": {}
        }
      ]
    },
    {
      "cell_type": "code",
      "source": [],
      "metadata": {
        "id": "czHvfZcb4_by"
      },
      "execution_count": null,
      "outputs": []
    },
    {
      "cell_type": "code",
      "source": [],
      "metadata": {
        "id": "a5xJ3sEJ4_wV"
      },
      "execution_count": null,
      "outputs": []
    },
    {
      "cell_type": "code",
      "source": [],
      "metadata": {
        "id": "YWBEo_GF4_yW"
      },
      "execution_count": null,
      "outputs": []
    },
    {
      "cell_type": "code",
      "source": [
        "# This one\n",
        "# Example usage\n",
        "train_and_test(\n",
        "    lambda: ResNet18ThreeLayersThreeBlocks_64channels(),\n",
        "    [30],\n",
        "    trainloader,\n",
        "    testloader,\n",
        "    nn.CrossEntropyLoss(),\n",
        "    optim.Adam,\n",
        "    0.001\n",
        ")\n"
      ],
      "metadata": {
        "colab": {
          "base_uri": "https://localhost:8080/",
          "height": 1000
        },
        "id": "izXsZj3Tz3rp",
        "outputId": "0e5b5199-0211-4ad3-908c-d0a214d7f593"
      },
      "execution_count": 32,
      "outputs": [
        {
          "output_type": "stream",
          "name": "stdout",
          "text": [
            "\n",
            "Training for 10 epochs...\n",
            "Total number(million) of trainable parameters: 4.330826\n"
          ]
        },
        {
          "output_type": "stream",
          "name": "stderr",
          "text": [
            "\rEpoch 1:   0%|          | 0/313 [00:00<?, ?batch/s]/usr/lib/python3.10/multiprocessing/popen_fork.py:66: RuntimeWarning: os.fork() was called. os.fork() is incompatible with multithreaded code, and JAX is multithreaded, so this will likely lead to a deadlock.\n",
            "  self.pid = os.fork()\n",
            "Epoch 1: 100%|██████████| 313/313 [00:06<00:00, 49.32batch/s]\n"
          ]
        },
        {
          "output_type": "stream",
          "name": "stdout",
          "text": [
            "\n",
            "Average Loss: 1.444\n",
            "Number(mil) of parameters: 4.330826\n",
            "Finished Training 1\n",
            "\n",
            "Finished Training\n"
          ]
        },
        {
          "output_type": "stream",
          "name": "stderr",
          "text": [
            "Epoch 2: 100%|██████████| 313/313 [00:06<00:00, 50.54batch/s]\n"
          ]
        },
        {
          "output_type": "stream",
          "name": "stdout",
          "text": [
            "\n",
            "Average Loss: 0.961\n",
            "Number(mil) of parameters: 4.330826\n",
            "Finished Training 2\n",
            "\n",
            "Finished Training\n"
          ]
        },
        {
          "output_type": "stream",
          "name": "stderr",
          "text": [
            "Epoch 3: 100%|██████████| 313/313 [00:06<00:00, 50.51batch/s]\n"
          ]
        },
        {
          "output_type": "stream",
          "name": "stdout",
          "text": [
            "\n",
            "Average Loss: 0.739\n",
            "Number(mil) of parameters: 4.330826\n",
            "Finished Training 3\n",
            "\n",
            "Finished Training\n"
          ]
        },
        {
          "output_type": "stream",
          "name": "stderr",
          "text": [
            "Epoch 4: 100%|██████████| 313/313 [00:06<00:00, 50.96batch/s]\n"
          ]
        },
        {
          "output_type": "stream",
          "name": "stdout",
          "text": [
            "\n",
            "Average Loss: 0.605\n",
            "Number(mil) of parameters: 4.330826\n",
            "Finished Training 4\n",
            "\n",
            "Finished Training\n"
          ]
        },
        {
          "output_type": "stream",
          "name": "stderr",
          "text": [
            "Epoch 5: 100%|██████████| 313/313 [00:06<00:00, 50.81batch/s]\n"
          ]
        },
        {
          "output_type": "stream",
          "name": "stdout",
          "text": [
            "\n",
            "Average Loss: 0.502\n",
            "Number(mil) of parameters: 4.330826\n",
            "Finished Training 5\n",
            "\n",
            "Finished Training\n"
          ]
        },
        {
          "output_type": "stream",
          "name": "stderr",
          "text": [
            "Epoch 6: 100%|██████████| 313/313 [00:06<00:00, 51.41batch/s]\n"
          ]
        },
        {
          "output_type": "stream",
          "name": "stdout",
          "text": [
            "\n",
            "Average Loss: 0.314\n",
            "Number(mil) of parameters: 4.330826\n",
            "Finished Training 6\n",
            "\n",
            "Finished Training\n"
          ]
        },
        {
          "output_type": "stream",
          "name": "stderr",
          "text": [
            "Epoch 7: 100%|██████████| 313/313 [00:06<00:00, 50.40batch/s]\n"
          ]
        },
        {
          "output_type": "stream",
          "name": "stdout",
          "text": [
            "\n",
            "Average Loss: 0.259\n",
            "Number(mil) of parameters: 4.330826\n",
            "Finished Training 7\n",
            "\n",
            "Finished Training\n"
          ]
        },
        {
          "output_type": "stream",
          "name": "stderr",
          "text": [
            "Epoch 8: 100%|██████████| 313/313 [00:06<00:00, 51.47batch/s]\n"
          ]
        },
        {
          "output_type": "stream",
          "name": "stdout",
          "text": [
            "\n",
            "Average Loss: 0.225\n",
            "Number(mil) of parameters: 4.330826\n",
            "Finished Training 8\n",
            "\n",
            "Finished Training\n"
          ]
        },
        {
          "output_type": "stream",
          "name": "stderr",
          "text": [
            "Epoch 9: 100%|██████████| 313/313 [00:06<00:00, 50.57batch/s]\n"
          ]
        },
        {
          "output_type": "stream",
          "name": "stdout",
          "text": [
            "\n",
            "Average Loss: 0.194\n",
            "Number(mil) of parameters: 4.330826\n",
            "Finished Training 9\n",
            "\n",
            "Finished Training\n"
          ]
        },
        {
          "output_type": "stream",
          "name": "stderr",
          "text": [
            "Epoch 10: 100%|██████████| 313/313 [00:06<00:00, 50.67batch/s]\n"
          ]
        },
        {
          "output_type": "stream",
          "name": "stdout",
          "text": [
            "\n",
            "Average Loss: 0.162\n",
            "Number(mil) of parameters: 4.330826\n",
            "Finished Training 10\n",
            "\n",
            "Finished Training\n"
          ]
        },
        {
          "output_type": "stream",
          "name": "stderr",
          "text": [
            "Testing: 100%|██████████| 100/100 [00:00<00:00, 107.72it/s]\n"
          ]
        },
        {
          "output_type": "stream",
          "name": "stdout",
          "text": [
            "\n",
            "Accuracy of the network on the test images: 84.51%\n",
            "Optimizer: Adam\n",
            "Learning rate: 0.001\n",
            "Number of epochs: 10)\n",
            "After applying epochs = 10, accuracy of the network on the test images: 84.51%, with number(mil) of parameters = 4.330826\n",
            "\n",
            "\n",
            "Training for 20 epochs...\n",
            "Total number(million) of trainable parameters: 4.330826\n"
          ]
        },
        {
          "output_type": "stream",
          "name": "stderr",
          "text": [
            "Epoch 1: 100%|██████████| 313/313 [00:06<00:00, 49.59batch/s]\n"
          ]
        },
        {
          "output_type": "stream",
          "name": "stdout",
          "text": [
            "\n",
            "Average Loss: 1.494\n",
            "Number(mil) of parameters: 4.330826\n",
            "Finished Training 1\n",
            "\n",
            "Finished Training\n"
          ]
        },
        {
          "output_type": "stream",
          "name": "stderr",
          "text": [
            "Epoch 2: 100%|██████████| 313/313 [00:06<00:00, 50.58batch/s]\n"
          ]
        },
        {
          "output_type": "stream",
          "name": "stdout",
          "text": [
            "\n",
            "Average Loss: 1.030\n",
            "Number(mil) of parameters: 4.330826\n",
            "Finished Training 2\n",
            "\n",
            "Finished Training\n"
          ]
        },
        {
          "output_type": "stream",
          "name": "stderr",
          "text": [
            "Epoch 3: 100%|██████████| 313/313 [00:06<00:00, 50.75batch/s]\n"
          ]
        },
        {
          "output_type": "stream",
          "name": "stdout",
          "text": [
            "\n",
            "Average Loss: 0.806\n",
            "Number(mil) of parameters: 4.330826\n",
            "Finished Training 3\n",
            "\n",
            "Finished Training\n"
          ]
        },
        {
          "output_type": "stream",
          "name": "stderr",
          "text": [
            "Epoch 4: 100%|██████████| 313/313 [00:06<00:00, 49.91batch/s]\n"
          ]
        },
        {
          "output_type": "stream",
          "name": "stdout",
          "text": [
            "\n",
            "Average Loss: 0.651\n",
            "Number(mil) of parameters: 4.330826\n",
            "Finished Training 4\n",
            "\n",
            "Finished Training\n"
          ]
        },
        {
          "output_type": "stream",
          "name": "stderr",
          "text": [
            "Epoch 5: 100%|██████████| 313/313 [00:06<00:00, 50.32batch/s]\n"
          ]
        },
        {
          "output_type": "stream",
          "name": "stdout",
          "text": [
            "\n",
            "Average Loss: 0.543\n",
            "Number(mil) of parameters: 4.330826\n",
            "Finished Training 5\n",
            "\n",
            "Finished Training\n"
          ]
        },
        {
          "output_type": "stream",
          "name": "stderr",
          "text": [
            "Epoch 6: 100%|██████████| 313/313 [00:06<00:00, 50.21batch/s]\n"
          ]
        },
        {
          "output_type": "stream",
          "name": "stdout",
          "text": [
            "\n",
            "Average Loss: 0.348\n",
            "Number(mil) of parameters: 4.330826\n",
            "Finished Training 6\n",
            "\n",
            "Finished Training\n"
          ]
        },
        {
          "output_type": "stream",
          "name": "stderr",
          "text": [
            "Epoch 7: 100%|██████████| 313/313 [00:06<00:00, 49.55batch/s]\n"
          ]
        },
        {
          "output_type": "stream",
          "name": "stdout",
          "text": [
            "\n",
            "Average Loss: 0.287\n",
            "Number(mil) of parameters: 4.330826\n",
            "Finished Training 7\n",
            "\n",
            "Finished Training\n"
          ]
        },
        {
          "output_type": "stream",
          "name": "stderr",
          "text": [
            "Epoch 8: 100%|██████████| 313/313 [00:06<00:00, 50.65batch/s]\n"
          ]
        },
        {
          "output_type": "stream",
          "name": "stdout",
          "text": [
            "\n",
            "Average Loss: 0.254\n",
            "Number(mil) of parameters: 4.330826\n",
            "Finished Training 8\n",
            "\n",
            "Finished Training\n"
          ]
        },
        {
          "output_type": "stream",
          "name": "stderr",
          "text": [
            "Epoch 9: 100%|██████████| 313/313 [00:06<00:00, 50.36batch/s]\n"
          ]
        },
        {
          "output_type": "stream",
          "name": "stdout",
          "text": [
            "\n",
            "Average Loss: 0.218\n",
            "Number(mil) of parameters: 4.330826\n",
            "Finished Training 9\n",
            "\n",
            "Finished Training\n"
          ]
        },
        {
          "output_type": "stream",
          "name": "stderr",
          "text": [
            "Epoch 10: 100%|██████████| 313/313 [00:06<00:00, 50.45batch/s]\n"
          ]
        },
        {
          "output_type": "stream",
          "name": "stdout",
          "text": [
            "\n",
            "Average Loss: 0.186\n",
            "Number(mil) of parameters: 4.330826\n",
            "Finished Training 10\n",
            "\n",
            "Finished Training\n"
          ]
        },
        {
          "output_type": "stream",
          "name": "stderr",
          "text": [
            "Epoch 11: 100%|██████████| 313/313 [00:06<00:00, 50.15batch/s]\n"
          ]
        },
        {
          "output_type": "stream",
          "name": "stdout",
          "text": [
            "\n",
            "Average Loss: 0.140\n",
            "Number(mil) of parameters: 4.330826\n",
            "Finished Training 11\n",
            "\n",
            "Finished Training\n"
          ]
        },
        {
          "output_type": "stream",
          "name": "stderr",
          "text": [
            "Epoch 12: 100%|██████████| 313/313 [00:06<00:00, 51.05batch/s]\n"
          ]
        },
        {
          "output_type": "stream",
          "name": "stdout",
          "text": [
            "\n",
            "Average Loss: 0.132\n",
            "Number(mil) of parameters: 4.330826\n",
            "Finished Training 12\n",
            "\n",
            "Finished Training\n"
          ]
        },
        {
          "output_type": "stream",
          "name": "stderr",
          "text": [
            "Epoch 13: 100%|██████████| 313/313 [00:06<00:00, 50.19batch/s]\n"
          ]
        },
        {
          "output_type": "stream",
          "name": "stdout",
          "text": [
            "\n",
            "Average Loss: 0.127\n",
            "Number(mil) of parameters: 4.330826\n",
            "Finished Training 13\n",
            "\n",
            "Finished Training\n"
          ]
        },
        {
          "output_type": "stream",
          "name": "stderr",
          "text": [
            "Epoch 14: 100%|██████████| 313/313 [00:06<00:00, 51.35batch/s]\n"
          ]
        },
        {
          "output_type": "stream",
          "name": "stdout",
          "text": [
            "\n",
            "Average Loss: 0.124\n",
            "Number(mil) of parameters: 4.330826\n",
            "Finished Training 14\n",
            "\n",
            "Finished Training\n"
          ]
        },
        {
          "output_type": "stream",
          "name": "stderr",
          "text": [
            "Epoch 15: 100%|██████████| 313/313 [00:06<00:00, 50.61batch/s]\n"
          ]
        },
        {
          "output_type": "stream",
          "name": "stdout",
          "text": [
            "\n",
            "Average Loss: 0.119\n",
            "Number(mil) of parameters: 4.330826\n",
            "Finished Training 15\n",
            "\n",
            "Finished Training\n"
          ]
        },
        {
          "output_type": "stream",
          "name": "stderr",
          "text": [
            "Epoch 16: 100%|██████████| 313/313 [00:06<00:00, 50.98batch/s]\n"
          ]
        },
        {
          "output_type": "stream",
          "name": "stdout",
          "text": [
            "\n",
            "Average Loss: 0.113\n",
            "Number(mil) of parameters: 4.330826\n",
            "Finished Training 16\n",
            "\n",
            "Finished Training\n"
          ]
        },
        {
          "output_type": "stream",
          "name": "stderr",
          "text": [
            "Epoch 17: 100%|██████████| 313/313 [00:06<00:00, 50.22batch/s]\n"
          ]
        },
        {
          "output_type": "stream",
          "name": "stdout",
          "text": [
            "\n",
            "Average Loss: 0.113\n",
            "Number(mil) of parameters: 4.330826\n",
            "Finished Training 17\n",
            "\n",
            "Finished Training\n"
          ]
        },
        {
          "output_type": "stream",
          "name": "stderr",
          "text": [
            "Epoch 18: 100%|██████████| 313/313 [00:06<00:00, 49.61batch/s]\n"
          ]
        },
        {
          "output_type": "stream",
          "name": "stdout",
          "text": [
            "\n",
            "Average Loss: 0.112\n",
            "Number(mil) of parameters: 4.330826\n",
            "Finished Training 18\n",
            "\n",
            "Finished Training\n"
          ]
        },
        {
          "output_type": "stream",
          "name": "stderr",
          "text": [
            "Epoch 19: 100%|██████████| 313/313 [00:06<00:00, 50.14batch/s]\n"
          ]
        },
        {
          "output_type": "stream",
          "name": "stdout",
          "text": [
            "\n",
            "Average Loss: 0.112\n",
            "Number(mil) of parameters: 4.330826\n",
            "Finished Training 19\n",
            "\n",
            "Finished Training\n"
          ]
        },
        {
          "output_type": "stream",
          "name": "stderr",
          "text": [
            "Epoch 20: 100%|██████████| 313/313 [00:06<00:00, 49.69batch/s]\n"
          ]
        },
        {
          "output_type": "stream",
          "name": "stdout",
          "text": [
            "\n",
            "Average Loss: 0.112\n",
            "Number(mil) of parameters: 4.330826\n",
            "Finished Training 20\n",
            "\n",
            "Finished Training\n"
          ]
        },
        {
          "output_type": "stream",
          "name": "stderr",
          "text": [
            "Testing: 100%|██████████| 100/100 [00:00<00:00, 105.49it/s]\n"
          ]
        },
        {
          "output_type": "stream",
          "name": "stdout",
          "text": [
            "\n",
            "Accuracy of the network on the test images: 84.74%\n",
            "Optimizer: Adam\n",
            "Learning rate: 0.001\n",
            "Number of epochs: 20)\n",
            "After applying epochs = 20, accuracy of the network on the test images: 84.74%, with number(mil) of parameters = 4.330826\n",
            "\n",
            "\n",
            "Training for 30 epochs...\n",
            "Total number(million) of trainable parameters: 4.330826\n"
          ]
        },
        {
          "output_type": "stream",
          "name": "stderr",
          "text": [
            "Epoch 1: 100%|██████████| 313/313 [00:06<00:00, 50.40batch/s]\n"
          ]
        },
        {
          "output_type": "stream",
          "name": "stdout",
          "text": [
            "\n",
            "Average Loss: 1.459\n",
            "Number(mil) of parameters: 4.330826\n",
            "Finished Training 1\n",
            "\n",
            "Finished Training\n"
          ]
        },
        {
          "output_type": "stream",
          "name": "stderr",
          "text": [
            "Epoch 2: 100%|██████████| 313/313 [00:06<00:00, 50.54batch/s]\n"
          ]
        },
        {
          "output_type": "stream",
          "name": "stdout",
          "text": [
            "\n",
            "Average Loss: 1.016\n",
            "Number(mil) of parameters: 4.330826\n",
            "Finished Training 2\n",
            "\n",
            "Finished Training\n"
          ]
        },
        {
          "output_type": "stream",
          "name": "stderr",
          "text": [
            "Epoch 3: 100%|██████████| 313/313 [00:06<00:00, 50.87batch/s]\n"
          ]
        },
        {
          "output_type": "stream",
          "name": "stdout",
          "text": [
            "\n",
            "Average Loss: 0.824\n",
            "Number(mil) of parameters: 4.330826\n",
            "Finished Training 3\n",
            "\n",
            "Finished Training\n"
          ]
        },
        {
          "output_type": "stream",
          "name": "stderr",
          "text": [
            "Epoch 4: 100%|██████████| 313/313 [00:06<00:00, 49.64batch/s]\n"
          ]
        },
        {
          "output_type": "stream",
          "name": "stdout",
          "text": [
            "\n",
            "Average Loss: 0.676\n",
            "Number(mil) of parameters: 4.330826\n",
            "Finished Training 4\n",
            "\n",
            "Finished Training\n"
          ]
        },
        {
          "output_type": "stream",
          "name": "stderr",
          "text": [
            "Epoch 5: 100%|██████████| 313/313 [00:06<00:00, 50.88batch/s]\n"
          ]
        },
        {
          "output_type": "stream",
          "name": "stdout",
          "text": [
            "\n",
            "Average Loss: 0.566\n",
            "Number(mil) of parameters: 4.330826\n",
            "Finished Training 5\n",
            "\n",
            "Finished Training\n"
          ]
        },
        {
          "output_type": "stream",
          "name": "stderr",
          "text": [
            "Epoch 6: 100%|██████████| 313/313 [00:06<00:00, 50.10batch/s]\n"
          ]
        },
        {
          "output_type": "stream",
          "name": "stdout",
          "text": [
            "\n",
            "Average Loss: 0.369\n",
            "Number(mil) of parameters: 4.330826\n",
            "Finished Training 6\n",
            "\n",
            "Finished Training\n"
          ]
        },
        {
          "output_type": "stream",
          "name": "stderr",
          "text": [
            "Epoch 7: 100%|██████████| 313/313 [00:06<00:00, 46.79batch/s]\n"
          ]
        },
        {
          "output_type": "stream",
          "name": "stdout",
          "text": [
            "\n",
            "Average Loss: 0.316\n",
            "Number(mil) of parameters: 4.330826\n",
            "Finished Training 7\n",
            "\n",
            "Finished Training\n"
          ]
        },
        {
          "output_type": "stream",
          "name": "stderr",
          "text": [
            "Epoch 8: 100%|██████████| 313/313 [00:06<00:00, 50.44batch/s]\n"
          ]
        },
        {
          "output_type": "stream",
          "name": "stdout",
          "text": [
            "\n",
            "Average Loss: 0.281\n",
            "Number(mil) of parameters: 4.330826\n",
            "Finished Training 8\n",
            "\n",
            "Finished Training\n"
          ]
        },
        {
          "output_type": "stream",
          "name": "stderr",
          "text": [
            "Epoch 9: 100%|██████████| 313/313 [00:06<00:00, 50.85batch/s]\n"
          ]
        },
        {
          "output_type": "stream",
          "name": "stdout",
          "text": [
            "\n",
            "Average Loss: 0.250\n",
            "Number(mil) of parameters: 4.330826\n",
            "Finished Training 9\n",
            "\n",
            "Finished Training\n"
          ]
        },
        {
          "output_type": "stream",
          "name": "stderr",
          "text": [
            "Epoch 10: 100%|██████████| 313/313 [00:06<00:00, 50.44batch/s]\n"
          ]
        },
        {
          "output_type": "stream",
          "name": "stdout",
          "text": [
            "\n",
            "Average Loss: 0.221\n",
            "Number(mil) of parameters: 4.330826\n",
            "Finished Training 10\n",
            "\n",
            "Finished Training\n"
          ]
        },
        {
          "output_type": "stream",
          "name": "stderr",
          "text": [
            "Epoch 11: 100%|██████████| 313/313 [00:06<00:00, 50.40batch/s]\n"
          ]
        },
        {
          "output_type": "stream",
          "name": "stdout",
          "text": [
            "\n",
            "Average Loss: 0.171\n",
            "Number(mil) of parameters: 4.330826\n",
            "Finished Training 11\n",
            "\n",
            "Finished Training\n"
          ]
        },
        {
          "output_type": "stream",
          "name": "stderr",
          "text": [
            "Epoch 12: 100%|██████████| 313/313 [00:06<00:00, 48.93batch/s]\n"
          ]
        },
        {
          "output_type": "stream",
          "name": "stdout",
          "text": [
            "\n",
            "Average Loss: 0.164\n",
            "Number(mil) of parameters: 4.330826\n",
            "Finished Training 12\n",
            "\n",
            "Finished Training\n"
          ]
        },
        {
          "output_type": "stream",
          "name": "stderr",
          "text": [
            "Epoch 13: 100%|██████████| 313/313 [00:06<00:00, 50.33batch/s]\n"
          ]
        },
        {
          "output_type": "stream",
          "name": "stdout",
          "text": [
            "\n",
            "Average Loss: 0.158\n",
            "Number(mil) of parameters: 4.330826\n",
            "Finished Training 13\n",
            "\n",
            "Finished Training\n"
          ]
        },
        {
          "output_type": "stream",
          "name": "stderr",
          "text": [
            "Epoch 14: 100%|██████████| 313/313 [00:06<00:00, 51.11batch/s]\n"
          ]
        },
        {
          "output_type": "stream",
          "name": "stdout",
          "text": [
            "\n",
            "Average Loss: 0.153\n",
            "Number(mil) of parameters: 4.330826\n",
            "Finished Training 14\n",
            "\n",
            "Finished Training\n"
          ]
        },
        {
          "output_type": "stream",
          "name": "stderr",
          "text": [
            "Epoch 15:  23%|██▎       | 73/313 [00:01<00:04, 48.86batch/s]\n"
          ]
        },
        {
          "output_type": "error",
          "ename": "KeyboardInterrupt",
          "evalue": "",
          "traceback": [
            "\u001b[0;31m---------------------------------------------------------------------------\u001b[0m",
            "\u001b[0;31mKeyboardInterrupt\u001b[0m                         Traceback (most recent call last)",
            "\u001b[0;32m<ipython-input-32-b797eb565b41>\u001b[0m in \u001b[0;36m<cell line: 2>\u001b[0;34m()\u001b[0m\n\u001b[1;32m      1\u001b[0m \u001b[0;31m# Example usage\u001b[0m\u001b[0;34m\u001b[0m\u001b[0;34m\u001b[0m\u001b[0m\n\u001b[0;32m----> 2\u001b[0;31m train_and_test(\n\u001b[0m\u001b[1;32m      3\u001b[0m     \u001b[0;32mlambda\u001b[0m\u001b[0;34m:\u001b[0m \u001b[0mResNet18ThreeLayersThreeBlocks_64channels\u001b[0m\u001b[0;34m(\u001b[0m\u001b[0;34m)\u001b[0m\u001b[0;34m,\u001b[0m\u001b[0;34m\u001b[0m\u001b[0;34m\u001b[0m\u001b[0m\n\u001b[1;32m      4\u001b[0m     \u001b[0;34m[\u001b[0m\u001b[0;36m10\u001b[0m\u001b[0;34m,\u001b[0m\u001b[0;36m20\u001b[0m\u001b[0;34m,\u001b[0m\u001b[0;36m30\u001b[0m\u001b[0;34m]\u001b[0m\u001b[0;34m,\u001b[0m\u001b[0;34m\u001b[0m\u001b[0;34m\u001b[0m\u001b[0m\n\u001b[1;32m      5\u001b[0m     \u001b[0mtrainloader\u001b[0m\u001b[0;34m,\u001b[0m\u001b[0;34m\u001b[0m\u001b[0;34m\u001b[0m\u001b[0m\n",
            "\u001b[0;32m<ipython-input-30-187fa943cc88>\u001b[0m in \u001b[0;36mtrain_and_test\u001b[0;34m(model_func, epochs_array, trainloader, testloader, criterion, optimizer_func, lr)\u001b[0m\n\u001b[1;32m     17\u001b[0m         \u001b[0;31m# Training the model\u001b[0m\u001b[0;34m\u001b[0m\u001b[0;34m\u001b[0m\u001b[0m\n\u001b[1;32m     18\u001b[0m         \u001b[0mprint\u001b[0m\u001b[0;34m(\u001b[0m\u001b[0;34mf\"\\nTraining for {num_epochs} epochs...\"\u001b[0m\u001b[0;34m)\u001b[0m\u001b[0;34m\u001b[0m\u001b[0;34m\u001b[0m\u001b[0m\n\u001b[0;32m---> 19\u001b[0;31m         \u001b[0mtrain_model\u001b[0m\u001b[0;34m(\u001b[0m\u001b[0mmodel\u001b[0m\u001b[0;34m,\u001b[0m \u001b[0moptimizer\u001b[0m\u001b[0;34m,\u001b[0m \u001b[0mcriterion\u001b[0m\u001b[0;34m,\u001b[0m \u001b[0mtrainloader\u001b[0m\u001b[0;34m,\u001b[0m \u001b[0mnum_epochs\u001b[0m\u001b[0;34m)\u001b[0m\u001b[0;34m\u001b[0m\u001b[0;34m\u001b[0m\u001b[0m\n\u001b[0m\u001b[1;32m     20\u001b[0m \u001b[0;34m\u001b[0m\u001b[0m\n\u001b[1;32m     21\u001b[0m         \u001b[0;31m# Testing the model\u001b[0m\u001b[0;34m\u001b[0m\u001b[0;34m\u001b[0m\u001b[0m\n",
            "\u001b[0;32m<ipython-input-25-daac373c41c9>\u001b[0m in \u001b[0;36mtrain_model\u001b[0;34m(model, optimizer, criterion, trainloader, num_epochs, gamma, step_size)\u001b[0m\n\u001b[1;32m     25\u001b[0m         \u001b[0mrunning_loss\u001b[0m \u001b[0;34m=\u001b[0m \u001b[0;36m0.0\u001b[0m\u001b[0;34m\u001b[0m\u001b[0;34m\u001b[0m\u001b[0m\n\u001b[1;32m     26\u001b[0m \u001b[0;34m\u001b[0m\u001b[0m\n\u001b[0;32m---> 27\u001b[0;31m         \u001b[0;32mfor\u001b[0m \u001b[0mi\u001b[0m\u001b[0;34m,\u001b[0m \u001b[0mdata\u001b[0m \u001b[0;32min\u001b[0m \u001b[0menumerate\u001b[0m\u001b[0;34m(\u001b[0m\u001b[0mtqdm\u001b[0m\u001b[0;34m(\u001b[0m\u001b[0mtrainloader\u001b[0m\u001b[0;34m,\u001b[0m \u001b[0mtotal\u001b[0m\u001b[0;34m=\u001b[0m\u001b[0mlen\u001b[0m\u001b[0;34m(\u001b[0m\u001b[0mtrainloader\u001b[0m\u001b[0;34m)\u001b[0m\u001b[0;34m,\u001b[0m \u001b[0munit\u001b[0m\u001b[0;34m=\u001b[0m\u001b[0;34m'batch'\u001b[0m\u001b[0;34m,\u001b[0m \u001b[0mdesc\u001b[0m\u001b[0;34m=\u001b[0m\u001b[0;34mf\"Epoch {epoch+1}\"\u001b[0m\u001b[0;34m)\u001b[0m\u001b[0;34m)\u001b[0m\u001b[0;34m:\u001b[0m\u001b[0;34m\u001b[0m\u001b[0;34m\u001b[0m\u001b[0m\n\u001b[0m\u001b[1;32m     28\u001b[0m             \u001b[0minputs\u001b[0m\u001b[0;34m,\u001b[0m \u001b[0mlabels\u001b[0m \u001b[0;34m=\u001b[0m \u001b[0mdata\u001b[0m\u001b[0;34m[\u001b[0m\u001b[0;36m0\u001b[0m\u001b[0;34m]\u001b[0m\u001b[0;34m.\u001b[0m\u001b[0mto\u001b[0m\u001b[0;34m(\u001b[0m\u001b[0mdevice\u001b[0m\u001b[0;34m)\u001b[0m\u001b[0;34m,\u001b[0m \u001b[0mdata\u001b[0m\u001b[0;34m[\u001b[0m\u001b[0;36m1\u001b[0m\u001b[0;34m]\u001b[0m\u001b[0;34m.\u001b[0m\u001b[0mto\u001b[0m\u001b[0;34m(\u001b[0m\u001b[0mdevice\u001b[0m\u001b[0;34m)\u001b[0m\u001b[0;34m\u001b[0m\u001b[0;34m\u001b[0m\u001b[0m\n\u001b[1;32m     29\u001b[0m \u001b[0;34m\u001b[0m\u001b[0m\n",
            "\u001b[0;32m/usr/local/lib/python3.10/dist-packages/tqdm/std.py\u001b[0m in \u001b[0;36m__iter__\u001b[0;34m(self)\u001b[0m\n\u001b[1;32m   1179\u001b[0m \u001b[0;34m\u001b[0m\u001b[0m\n\u001b[1;32m   1180\u001b[0m         \u001b[0;32mtry\u001b[0m\u001b[0;34m:\u001b[0m\u001b[0;34m\u001b[0m\u001b[0;34m\u001b[0m\u001b[0m\n\u001b[0;32m-> 1181\u001b[0;31m             \u001b[0;32mfor\u001b[0m \u001b[0mobj\u001b[0m \u001b[0;32min\u001b[0m \u001b[0miterable\u001b[0m\u001b[0;34m:\u001b[0m\u001b[0;34m\u001b[0m\u001b[0;34m\u001b[0m\u001b[0m\n\u001b[0m\u001b[1;32m   1182\u001b[0m                 \u001b[0;32myield\u001b[0m \u001b[0mobj\u001b[0m\u001b[0;34m\u001b[0m\u001b[0;34m\u001b[0m\u001b[0m\n\u001b[1;32m   1183\u001b[0m                 \u001b[0;31m# Update and possibly print the progressbar.\u001b[0m\u001b[0;34m\u001b[0m\u001b[0;34m\u001b[0m\u001b[0m\n",
            "\u001b[0;32m/usr/local/lib/python3.10/dist-packages/torch/utils/data/dataloader.py\u001b[0m in \u001b[0;36m__next__\u001b[0;34m(self)\u001b[0m\n\u001b[1;32m    629\u001b[0m                 \u001b[0;31m# TODO(https://github.com/pytorch/pytorch/issues/76750)\u001b[0m\u001b[0;34m\u001b[0m\u001b[0;34m\u001b[0m\u001b[0m\n\u001b[1;32m    630\u001b[0m                 \u001b[0mself\u001b[0m\u001b[0;34m.\u001b[0m\u001b[0m_reset\u001b[0m\u001b[0;34m(\u001b[0m\u001b[0;34m)\u001b[0m  \u001b[0;31m# type: ignore[call-arg]\u001b[0m\u001b[0;34m\u001b[0m\u001b[0;34m\u001b[0m\u001b[0m\n\u001b[0;32m--> 631\u001b[0;31m             \u001b[0mdata\u001b[0m \u001b[0;34m=\u001b[0m \u001b[0mself\u001b[0m\u001b[0;34m.\u001b[0m\u001b[0m_next_data\u001b[0m\u001b[0;34m(\u001b[0m\u001b[0;34m)\u001b[0m\u001b[0;34m\u001b[0m\u001b[0;34m\u001b[0m\u001b[0m\n\u001b[0m\u001b[1;32m    632\u001b[0m             \u001b[0mself\u001b[0m\u001b[0;34m.\u001b[0m\u001b[0m_num_yielded\u001b[0m \u001b[0;34m+=\u001b[0m \u001b[0;36m1\u001b[0m\u001b[0;34m\u001b[0m\u001b[0;34m\u001b[0m\u001b[0m\n\u001b[1;32m    633\u001b[0m             \u001b[0;32mif\u001b[0m \u001b[0mself\u001b[0m\u001b[0;34m.\u001b[0m\u001b[0m_dataset_kind\u001b[0m \u001b[0;34m==\u001b[0m \u001b[0m_DatasetKind\u001b[0m\u001b[0;34m.\u001b[0m\u001b[0mIterable\u001b[0m \u001b[0;32mand\u001b[0m\u001b[0;31m \u001b[0m\u001b[0;31m\\\u001b[0m\u001b[0;34m\u001b[0m\u001b[0;34m\u001b[0m\u001b[0m\n",
            "\u001b[0;32m/usr/local/lib/python3.10/dist-packages/torch/utils/data/dataloader.py\u001b[0m in \u001b[0;36m_next_data\u001b[0;34m(self)\u001b[0m\n\u001b[1;32m   1327\u001b[0m \u001b[0;34m\u001b[0m\u001b[0m\n\u001b[1;32m   1328\u001b[0m             \u001b[0;32massert\u001b[0m \u001b[0;32mnot\u001b[0m \u001b[0mself\u001b[0m\u001b[0;34m.\u001b[0m\u001b[0m_shutdown\u001b[0m \u001b[0;32mand\u001b[0m \u001b[0mself\u001b[0m\u001b[0;34m.\u001b[0m\u001b[0m_tasks_outstanding\u001b[0m \u001b[0;34m>\u001b[0m \u001b[0;36m0\u001b[0m\u001b[0;34m\u001b[0m\u001b[0;34m\u001b[0m\u001b[0m\n\u001b[0;32m-> 1329\u001b[0;31m             \u001b[0midx\u001b[0m\u001b[0;34m,\u001b[0m \u001b[0mdata\u001b[0m \u001b[0;34m=\u001b[0m \u001b[0mself\u001b[0m\u001b[0;34m.\u001b[0m\u001b[0m_get_data\u001b[0m\u001b[0;34m(\u001b[0m\u001b[0;34m)\u001b[0m\u001b[0;34m\u001b[0m\u001b[0;34m\u001b[0m\u001b[0m\n\u001b[0m\u001b[1;32m   1330\u001b[0m             \u001b[0mself\u001b[0m\u001b[0;34m.\u001b[0m\u001b[0m_tasks_outstanding\u001b[0m \u001b[0;34m-=\u001b[0m \u001b[0;36m1\u001b[0m\u001b[0;34m\u001b[0m\u001b[0;34m\u001b[0m\u001b[0m\n\u001b[1;32m   1331\u001b[0m             \u001b[0;32mif\u001b[0m \u001b[0mself\u001b[0m\u001b[0;34m.\u001b[0m\u001b[0m_dataset_kind\u001b[0m \u001b[0;34m==\u001b[0m \u001b[0m_DatasetKind\u001b[0m\u001b[0;34m.\u001b[0m\u001b[0mIterable\u001b[0m\u001b[0;34m:\u001b[0m\u001b[0;34m\u001b[0m\u001b[0;34m\u001b[0m\u001b[0m\n",
            "\u001b[0;32m/usr/local/lib/python3.10/dist-packages/torch/utils/data/dataloader.py\u001b[0m in \u001b[0;36m_get_data\u001b[0;34m(self)\u001b[0m\n\u001b[1;32m   1293\u001b[0m         \u001b[0;32melse\u001b[0m\u001b[0;34m:\u001b[0m\u001b[0;34m\u001b[0m\u001b[0;34m\u001b[0m\u001b[0m\n\u001b[1;32m   1294\u001b[0m             \u001b[0;32mwhile\u001b[0m \u001b[0;32mTrue\u001b[0m\u001b[0;34m:\u001b[0m\u001b[0;34m\u001b[0m\u001b[0;34m\u001b[0m\u001b[0m\n\u001b[0;32m-> 1295\u001b[0;31m                 \u001b[0msuccess\u001b[0m\u001b[0;34m,\u001b[0m \u001b[0mdata\u001b[0m \u001b[0;34m=\u001b[0m \u001b[0mself\u001b[0m\u001b[0;34m.\u001b[0m\u001b[0m_try_get_data\u001b[0m\u001b[0;34m(\u001b[0m\u001b[0;34m)\u001b[0m\u001b[0;34m\u001b[0m\u001b[0;34m\u001b[0m\u001b[0m\n\u001b[0m\u001b[1;32m   1296\u001b[0m                 \u001b[0;32mif\u001b[0m \u001b[0msuccess\u001b[0m\u001b[0;34m:\u001b[0m\u001b[0;34m\u001b[0m\u001b[0;34m\u001b[0m\u001b[0m\n\u001b[1;32m   1297\u001b[0m                     \u001b[0;32mreturn\u001b[0m \u001b[0mdata\u001b[0m\u001b[0;34m\u001b[0m\u001b[0;34m\u001b[0m\u001b[0m\n",
            "\u001b[0;32m/usr/local/lib/python3.10/dist-packages/torch/utils/data/dataloader.py\u001b[0m in \u001b[0;36m_try_get_data\u001b[0;34m(self, timeout)\u001b[0m\n\u001b[1;32m   1131\u001b[0m         \u001b[0;31m#   (bool: whether successfully get data, any: data if successful else None)\u001b[0m\u001b[0;34m\u001b[0m\u001b[0;34m\u001b[0m\u001b[0m\n\u001b[1;32m   1132\u001b[0m         \u001b[0;32mtry\u001b[0m\u001b[0;34m:\u001b[0m\u001b[0;34m\u001b[0m\u001b[0;34m\u001b[0m\u001b[0m\n\u001b[0;32m-> 1133\u001b[0;31m             \u001b[0mdata\u001b[0m \u001b[0;34m=\u001b[0m \u001b[0mself\u001b[0m\u001b[0;34m.\u001b[0m\u001b[0m_data_queue\u001b[0m\u001b[0;34m.\u001b[0m\u001b[0mget\u001b[0m\u001b[0;34m(\u001b[0m\u001b[0mtimeout\u001b[0m\u001b[0;34m=\u001b[0m\u001b[0mtimeout\u001b[0m\u001b[0;34m)\u001b[0m\u001b[0;34m\u001b[0m\u001b[0;34m\u001b[0m\u001b[0m\n\u001b[0m\u001b[1;32m   1134\u001b[0m             \u001b[0;32mreturn\u001b[0m \u001b[0;34m(\u001b[0m\u001b[0;32mTrue\u001b[0m\u001b[0;34m,\u001b[0m \u001b[0mdata\u001b[0m\u001b[0;34m)\u001b[0m\u001b[0;34m\u001b[0m\u001b[0;34m\u001b[0m\u001b[0m\n\u001b[1;32m   1135\u001b[0m         \u001b[0;32mexcept\u001b[0m \u001b[0mException\u001b[0m \u001b[0;32mas\u001b[0m \u001b[0me\u001b[0m\u001b[0;34m:\u001b[0m\u001b[0;34m\u001b[0m\u001b[0;34m\u001b[0m\u001b[0m\n",
            "\u001b[0;32m/usr/lib/python3.10/multiprocessing/queues.py\u001b[0m in \u001b[0;36mget\u001b[0;34m(self, block, timeout)\u001b[0m\n\u001b[1;32m    111\u001b[0m                 \u001b[0;32mif\u001b[0m \u001b[0mblock\u001b[0m\u001b[0;34m:\u001b[0m\u001b[0;34m\u001b[0m\u001b[0;34m\u001b[0m\u001b[0m\n\u001b[1;32m    112\u001b[0m                     \u001b[0mtimeout\u001b[0m \u001b[0;34m=\u001b[0m \u001b[0mdeadline\u001b[0m \u001b[0;34m-\u001b[0m \u001b[0mtime\u001b[0m\u001b[0;34m.\u001b[0m\u001b[0mmonotonic\u001b[0m\u001b[0;34m(\u001b[0m\u001b[0;34m)\u001b[0m\u001b[0;34m\u001b[0m\u001b[0;34m\u001b[0m\u001b[0m\n\u001b[0;32m--> 113\u001b[0;31m                     \u001b[0;32mif\u001b[0m \u001b[0;32mnot\u001b[0m \u001b[0mself\u001b[0m\u001b[0;34m.\u001b[0m\u001b[0m_poll\u001b[0m\u001b[0;34m(\u001b[0m\u001b[0mtimeout\u001b[0m\u001b[0;34m)\u001b[0m\u001b[0;34m:\u001b[0m\u001b[0;34m\u001b[0m\u001b[0;34m\u001b[0m\u001b[0m\n\u001b[0m\u001b[1;32m    114\u001b[0m                         \u001b[0;32mraise\u001b[0m \u001b[0mEmpty\u001b[0m\u001b[0;34m\u001b[0m\u001b[0;34m\u001b[0m\u001b[0m\n\u001b[1;32m    115\u001b[0m                 \u001b[0;32melif\u001b[0m \u001b[0;32mnot\u001b[0m \u001b[0mself\u001b[0m\u001b[0;34m.\u001b[0m\u001b[0m_poll\u001b[0m\u001b[0;34m(\u001b[0m\u001b[0;34m)\u001b[0m\u001b[0;34m:\u001b[0m\u001b[0;34m\u001b[0m\u001b[0;34m\u001b[0m\u001b[0m\n",
            "\u001b[0;32m/usr/lib/python3.10/multiprocessing/connection.py\u001b[0m in \u001b[0;36mpoll\u001b[0;34m(self, timeout)\u001b[0m\n\u001b[1;32m    253\u001b[0m     \u001b[0;32mdef\u001b[0m \u001b[0mpoll\u001b[0m\u001b[0;34m(\u001b[0m\u001b[0mself\u001b[0m\u001b[0;34m,\u001b[0m \u001b[0mtimeout\u001b[0m\u001b[0;34m=\u001b[0m\u001b[0;36m0.0\u001b[0m\u001b[0;34m)\u001b[0m\u001b[0;34m:\u001b[0m\u001b[0;34m\u001b[0m\u001b[0;34m\u001b[0m\u001b[0m\n\u001b[1;32m    254\u001b[0m         \u001b[0;34m\"\"\"Whether there is any input available to be read\"\"\"\u001b[0m\u001b[0;34m\u001b[0m\u001b[0;34m\u001b[0m\u001b[0m\n\u001b[0;32m--> 255\u001b[0;31m         \u001b[0mself\u001b[0m\u001b[0;34m.\u001b[0m\u001b[0m_check_closed\u001b[0m\u001b[0;34m(\u001b[0m\u001b[0;34m)\u001b[0m\u001b[0;34m\u001b[0m\u001b[0;34m\u001b[0m\u001b[0m\n\u001b[0m\u001b[1;32m    256\u001b[0m         \u001b[0mself\u001b[0m\u001b[0;34m.\u001b[0m\u001b[0m_check_readable\u001b[0m\u001b[0;34m(\u001b[0m\u001b[0;34m)\u001b[0m\u001b[0;34m\u001b[0m\u001b[0;34m\u001b[0m\u001b[0m\n\u001b[1;32m    257\u001b[0m         \u001b[0;32mreturn\u001b[0m \u001b[0mself\u001b[0m\u001b[0;34m.\u001b[0m\u001b[0m_poll\u001b[0m\u001b[0;34m(\u001b[0m\u001b[0mtimeout\u001b[0m\u001b[0;34m)\u001b[0m\u001b[0;34m\u001b[0m\u001b[0;34m\u001b[0m\u001b[0m\n",
            "\u001b[0;32m/usr/lib/python3.10/multiprocessing/connection.py\u001b[0m in \u001b[0;36m_check_closed\u001b[0;34m(self)\u001b[0m\n\u001b[1;32m    133\u001b[0m \u001b[0;34m\u001b[0m\u001b[0m\n\u001b[1;32m    134\u001b[0m     \u001b[0;32mdef\u001b[0m \u001b[0m_check_closed\u001b[0m\u001b[0;34m(\u001b[0m\u001b[0mself\u001b[0m\u001b[0;34m)\u001b[0m\u001b[0;34m:\u001b[0m\u001b[0;34m\u001b[0m\u001b[0;34m\u001b[0m\u001b[0m\n\u001b[0;32m--> 135\u001b[0;31m         \u001b[0;32mif\u001b[0m \u001b[0mself\u001b[0m\u001b[0;34m.\u001b[0m\u001b[0m_handle\u001b[0m \u001b[0;32mis\u001b[0m \u001b[0;32mNone\u001b[0m\u001b[0;34m:\u001b[0m\u001b[0;34m\u001b[0m\u001b[0;34m\u001b[0m\u001b[0m\n\u001b[0m\u001b[1;32m    136\u001b[0m             \u001b[0;32mraise\u001b[0m \u001b[0mOSError\u001b[0m\u001b[0;34m(\u001b[0m\u001b[0;34m\"handle is closed\"\u001b[0m\u001b[0;34m)\u001b[0m\u001b[0;34m\u001b[0m\u001b[0;34m\u001b[0m\u001b[0m\n\u001b[1;32m    137\u001b[0m \u001b[0;34m\u001b[0m\u001b[0m\n",
            "\u001b[0;31mKeyboardInterrupt\u001b[0m: "
          ]
        }
      ]
    },
    {
      "cell_type": "code",
      "source": [],
      "metadata": {
        "id": "t0zRbDdb0p_7"
      },
      "execution_count": null,
      "outputs": []
    },
    {
      "cell_type": "code",
      "source": [],
      "metadata": {
        "id": "LrgT1Na50qB9"
      },
      "execution_count": null,
      "outputs": []
    },
    {
      "cell_type": "code",
      "source": [],
      "metadata": {
        "id": "oSbyCTw70qD3"
      },
      "execution_count": null,
      "outputs": []
    },
    {
      "cell_type": "code",
      "source": [],
      "metadata": {
        "id": "Jsi-cwVc0qFi"
      },
      "execution_count": null,
      "outputs": []
    },
    {
      "cell_type": "code",
      "source": [],
      "metadata": {
        "id": "5GYXJJd2z3uC"
      },
      "execution_count": null,
      "outputs": []
    },
    {
      "cell_type": "code",
      "source": [],
      "metadata": {
        "id": "mi4cxP2Nz3wQ"
      },
      "execution_count": null,
      "outputs": []
    },
    {
      "cell_type": "code",
      "source": [],
      "metadata": {
        "id": "thuPWUmYz3yl"
      },
      "execution_count": null,
      "outputs": []
    },
    {
      "cell_type": "code",
      "source": [],
      "metadata": {
        "id": "xJHgNyVsz30-"
      },
      "execution_count": null,
      "outputs": []
    },
    {
      "cell_type": "code",
      "source": [],
      "metadata": {
        "id": "rI9ZUneXz33E"
      },
      "execution_count": null,
      "outputs": []
    },
    {
      "cell_type": "code",
      "source": [],
      "metadata": {
        "id": "__FNuM7Kz35Z"
      },
      "execution_count": null,
      "outputs": []
    },
    {
      "cell_type": "code",
      "source": [],
      "metadata": {
        "id": "QiaVQbs2z37T"
      },
      "execution_count": null,
      "outputs": []
    }
  ]
}